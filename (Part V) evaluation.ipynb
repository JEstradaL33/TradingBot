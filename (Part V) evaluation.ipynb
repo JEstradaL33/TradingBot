{
 "cells": [
  {
   "cell_type": "markdown",
   "metadata": {},
   "source": [
    "# 8. Model evaluation"
   ]
  },
  {
   "cell_type": "markdown",
   "metadata": {},
   "source": [
    "The models' performance will be tested using out-of-sample data. With the predictions at hand, we will build the trading system.\n",
    "\n",
    "A long position will be taken if the model's average is positive and short if it is negative."
   ]
  },
  {
   "cell_type": "code",
   "execution_count": 52,
   "metadata": {},
   "outputs": [],
   "source": [
    "import pandas as pd\n",
    "import numpy as np\n",
    "from matplotlib import pyplot as plt"
   ]
  },
  {
   "cell_type": "code",
   "execution_count": 53,
   "metadata": {},
   "outputs": [],
   "source": [
    "preds_output = pd.read_csv('data/oos_preds.csv', index_col=0, parse_dates=True)\n",
    "complete_data = pd.read_csv('data/ohlcv.csv', index_col=0, parse_dates=True)"
   ]
  },
  {
   "cell_type": "code",
   "execution_count": 54,
   "metadata": {},
   "outputs": [],
   "source": [
    "roll_means = {'cuberoot_all': 4, 'arsinh_all': 5, 'none_all': 2, 'bycluster_cuberoot': 1, 'bycluster_arsinh': 1, 'bycluster_none': 1}\n",
    "for key, value in roll_means.items():\n",
    "    preds_output.loc[:, key] = preds_output.loc[:, key].rolling(value).mean()"
   ]
  },
  {
   "cell_type": "code",
   "execution_count": 55,
   "metadata": {},
   "outputs": [],
   "source": [
    "preds_output = pd.concat([preds_output, complete_data.loc[:, 'Close'].pct_change().shift(-1)], axis=1)\n",
    "preds_output.dropna(inplace=True)"
   ]
  },
  {
   "cell_type": "code",
   "execution_count": 56,
   "metadata": {},
   "outputs": [],
   "source": [
    "strat_cols = [col for col in preds_output.columns if col != 'Close']\n",
    "capital = {}\n",
    "trading_fee = 0.01/100*2 # Limit order fees in Bybit, a cryptocurrency exchange\n",
    "for col in strat_cols:\n",
    "    long_short = preds_output.loc[:, col] < 0\n",
    "    pos_change = long_short.diff().fillna(False)\n",
    "    rets = preds_output.loc[:, 'Close'].values.copy()\n",
    "    rets[long_short] = rets[long_short] * -1\n",
    "    rets[pos_change] = rets[pos_change] - trading_fee \n",
    "    capital[col] = pd.Series(data=np.cumprod(1 + rets), index=preds_output.index)"
   ]
  },
  {
   "cell_type": "code",
   "execution_count": 57,
   "metadata": {},
   "outputs": [],
   "source": [
    "capital_df = pd.concat(capital.values(), axis=1)\n",
    "capital_df.columns = capital.keys()\n",
    "\n",
    "btc_base1 = pd.Series(data=np.cumprod(1 + complete_data.loc[capital_df.index[0]:, 'Close'].pct_change()), index=capital_df.index)\n",
    "btc_base1.name = 'BTC'\n",
    "\n",
    "capital_df = pd.concat([capital_df, btc_base1], axis=1).dropna()"
   ]
  },
  {
   "cell_type": "code",
   "execution_count": 58,
   "metadata": {},
   "outputs": [
    {
     "data": {
      "text/html": [
       "<div>\n",
       "<style scoped>\n",
       "    .dataframe tbody tr th:only-of-type {\n",
       "        vertical-align: middle;\n",
       "    }\n",
       "\n",
       "    .dataframe tbody tr th {\n",
       "        vertical-align: top;\n",
       "    }\n",
       "\n",
       "    .dataframe thead th {\n",
       "        text-align: right;\n",
       "    }\n",
       "</style>\n",
       "<table border=\"1\" class=\"dataframe\">\n",
       "  <thead>\n",
       "    <tr style=\"text-align: right;\">\n",
       "      <th></th>\n",
       "      <th>2022-02-19 19:00:00</th>\n",
       "    </tr>\n",
       "  </thead>\n",
       "  <tbody>\n",
       "    <tr>\n",
       "      <th>none_all</th>\n",
       "      <td>7.326018</td>\n",
       "    </tr>\n",
       "    <tr>\n",
       "      <th>arsinh_all</th>\n",
       "      <td>6.844284</td>\n",
       "    </tr>\n",
       "    <tr>\n",
       "      <th>cuberoot_all</th>\n",
       "      <td>5.383571</td>\n",
       "    </tr>\n",
       "    <tr>\n",
       "      <th>bycluster_none</th>\n",
       "      <td>2.829433</td>\n",
       "    </tr>\n",
       "    <tr>\n",
       "      <th>bycluster_arsinh</th>\n",
       "      <td>1.509206</td>\n",
       "    </tr>\n",
       "    <tr>\n",
       "      <th>bycluster_cuberoot</th>\n",
       "      <td>0.621468</td>\n",
       "    </tr>\n",
       "    <tr>\n",
       "      <th>BTC</th>\n",
       "      <td>4.345851</td>\n",
       "    </tr>\n",
       "  </tbody>\n",
       "</table>\n",
       "</div>"
      ],
      "text/plain": [
       "                    2022-02-19 19:00:00\n",
       "none_all                       7.326018\n",
       "arsinh_all                     6.844284\n",
       "cuberoot_all                   5.383571\n",
       "bycluster_none                 2.829433\n",
       "bycluster_arsinh               1.509206\n",
       "bycluster_cuberoot             0.621468\n",
       "BTC                            4.345851"
      ]
     },
     "execution_count": 58,
     "metadata": {},
     "output_type": "execute_result"
    }
   ],
   "source": [
    "capital_df.pct_change(len(capital_df)-1).dropna().T"
   ]
  },
  {
   "cell_type": "markdown",
   "metadata": {},
   "source": [
    "# 9. Conclusions and next steps"
   ]
  },
  {
   "cell_type": "markdown",
   "metadata": {},
   "source": [
    "Conclusions:\n",
    "\n",
    "1. Creating a profitable BTC trading strategy using machine learning models is possible. Even though forecasting returns is an extremely difficult task given their noisy nature, we can do well enough to generate a positive capital return.\n",
    "2. The idea of clustering market structure and creating separate models for each structure did not hold to be good. While all non-cluster models outperformed a buy-and-hold strategy for the tested period, every cluster strategy underperformed. This is probably explained due to the lack of data for some structures. Trying other clustering algorithms might be a good idea as KMeans has its own limitations.\n",
    "3. Given the random nature of tree models, it is recommended to run several tests with different random_states and average the predictions of all to get a better estimate of oos performance. However, it is safe to say that during the tested timeperiod non-cluster models performed better than a buy-and-hold strategy.\n",
    "\n",
    "Next steps:\n",
    "\n",
    "1. Productionize the solution\n",
    "2. Test RNN and Conv1D models and compare results with existing solution\n",
    "3. Try different clustering algorithms to cluster market structure\n",
    "4. Gather more data from different sources (derivative markets data, liquidity data, etc.)\n",
    "5. Try to implement reinforcement learning to teach an agent how to trade using these predictions\n",
    "6. Extend the project to other tradeable assets\n",
    "7. Upsample market structure data to increase the dataset size for low density clusters\n",
    "8. Use stacked autoencoders (with some restriction) to reduce the dimensionality of the dataset and test if it improves performance\n",
    "9. Frame the problem as a classification one and predict the positions rather than the expected return\n",
    "10. Denoise the target variable\n",
    "11. Use other assets' trading data to fit the models and test if this improves performance\n",
    "12. Train a model to detect outliers and freeze the strategy whenever new outliers come along (check if this improves performance)\n",
    "13. Build an sklearn pipeline with all feature engineering operations and optimize parameters using ts cross-validation"
   ]
  },
  {
   "cell_type": "code",
   "execution_count": null,
   "metadata": {},
   "outputs": [],
   "source": []
  }
 ],
 "metadata": {
  "kernelspec": {
   "display_name": "Python 3 (ipykernel)",
   "language": "python",
   "name": "python3"
  },
  "language_info": {
   "codemirror_mode": {
    "name": "ipython",
    "version": 3
   },
   "file_extension": ".py",
   "mimetype": "text/x-python",
   "name": "python",
   "nbconvert_exporter": "python",
   "pygments_lexer": "ipython3",
   "version": "3.7.6"
  }
 },
 "nbformat": 4,
 "nbformat_minor": 4
}
